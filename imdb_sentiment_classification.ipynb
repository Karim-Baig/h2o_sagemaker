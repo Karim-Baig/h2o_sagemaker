{
 "cells": [
  {
   "cell_type": "code",
   "execution_count": 5,
   "id": "remarkable-scheme",
   "metadata": {},
   "outputs": [
    {
     "name": "stdout",
     "output_type": "stream",
     "text": [
      "Requirement already satisfied: h2o==3.32.0.3 in /home/ec2-user/anaconda3/envs/pytorch_latest_p36/lib/python3.6/site-packages (from -r requirements.txt (line 1)) (3.32.0.3)\n",
      "Requirement already satisfied: autocorrect in /home/ec2-user/anaconda3/envs/pytorch_latest_p36/lib/python3.6/site-packages (from -r requirements.txt (line 2)) (2.3.0)\n",
      "Requirement already satisfied: gensim==3.8.3 in /home/ec2-user/anaconda3/envs/pytorch_latest_p36/lib/python3.6/site-packages (from -r requirements.txt (line 4)) (3.8.3)\n",
      "Requirement already satisfied: scikit-plot in /home/ec2-user/anaconda3/envs/pytorch_latest_p36/lib/python3.6/site-packages (from -r requirements.txt (line 5)) (0.3.7)\n",
      "Requirement already satisfied: BeautifulSoup4==4.8.2 in /home/ec2-user/anaconda3/envs/pytorch_latest_p36/lib/python3.6/site-packages (from -r requirements.txt (line 6)) (4.8.2)\n",
      "Requirement already satisfied: scikit-learn==0.22.1 in /home/ec2-user/anaconda3/envs/pytorch_latest_p36/lib/python3.6/site-packages (from -r requirements.txt (line 7)) (0.22.1)\n",
      "Collecting en_core_web_sm\n",
      "  Using cached en_core_web_sm-2.2.0-py3-none-any.whl\n",
      "Requirement already satisfied: soupsieve>=1.2 in /home/ec2-user/anaconda3/envs/pytorch_latest_p36/lib/python3.6/site-packages (from BeautifulSoup4==4.8.2->-r requirements.txt (line 6)) (1.9.5)\n",
      "Requirement already satisfied: scipy>=0.18.1 in /home/ec2-user/anaconda3/envs/pytorch_latest_p36/lib/python3.6/site-packages (from gensim==3.8.3->-r requirements.txt (line 4)) (1.4.1)\n",
      "Requirement already satisfied: six>=1.5.0 in /home/ec2-user/anaconda3/envs/pytorch_latest_p36/lib/python3.6/site-packages (from gensim==3.8.3->-r requirements.txt (line 4)) (1.15.0)\n",
      "Requirement already satisfied: numpy>=1.11.3 in /home/ec2-user/anaconda3/envs/pytorch_latest_p36/lib/python3.6/site-packages (from gensim==3.8.3->-r requirements.txt (line 4)) (1.19.5)\n",
      "Requirement already satisfied: smart-open>=1.8.1 in /home/ec2-user/anaconda3/envs/pytorch_latest_p36/lib/python3.6/site-packages (from gensim==3.8.3->-r requirements.txt (line 4)) (4.2.0)\n",
      "Requirement already satisfied: colorama>=0.3.8 in /home/ec2-user/anaconda3/envs/pytorch_latest_p36/lib/python3.6/site-packages (from h2o==3.32.0.3->-r requirements.txt (line 1)) (0.4.3)\n",
      "Requirement already satisfied: requests in /home/ec2-user/anaconda3/envs/pytorch_latest_p36/lib/python3.6/site-packages (from h2o==3.32.0.3->-r requirements.txt (line 1)) (2.25.1)\n",
      "Requirement already satisfied: future in /home/ec2-user/anaconda3/envs/pytorch_latest_p36/lib/python3.6/site-packages (from h2o==3.32.0.3->-r requirements.txt (line 1)) (0.18.2)\n",
      "Requirement already satisfied: tabulate in /home/ec2-user/anaconda3/envs/pytorch_latest_p36/lib/python3.6/site-packages (from h2o==3.32.0.3->-r requirements.txt (line 1)) (0.8.7)\n",
      "Requirement already satisfied: joblib>=0.11 in /home/ec2-user/anaconda3/envs/pytorch_latest_p36/lib/python3.6/site-packages (from scikit-learn==0.22.1->-r requirements.txt (line 7)) (0.14.1)\n",
      "Collecting spacy<2.4.0,==2.2.0\n",
      "  Downloading spacy-2.2.0-cp36-cp36m-manylinux1_x86_64.whl (10.2 MB)\n",
      "\u001b[K     |████████████████████████████████| 10.2 MB 5.6 MB/s eta 0:00:01\n",
      "\u001b[?25hRequirement already satisfied: srsly<1.1.0,>=0.1.0 in /home/ec2-user/anaconda3/envs/pytorch_latest_p36/lib/python3.6/site-packages (from spacy<2.4.0,==2.2.0->-r requirements.txt (line 3)) (1.0.4)\n",
      "Requirement already satisfied: cymem<2.1.0,>=2.0.2 in /home/ec2-user/anaconda3/envs/pytorch_latest_p36/lib/python3.6/site-packages (from spacy<2.4.0,==2.2.0->-r requirements.txt (line 3)) (2.0.4)\n",
      "Requirement already satisfied: plac<1.0.0,>=0.9.6 in /home/ec2-user/anaconda3/envs/pytorch_latest_p36/lib/python3.6/site-packages (from spacy<2.4.0,==2.2.0->-r requirements.txt (line 3)) (0.9.6)\n",
      "Requirement already satisfied: blis<0.5.0,>=0.4.0 in /home/ec2-user/anaconda3/envs/pytorch_latest_p36/lib/python3.6/site-packages (from spacy<2.4.0,==2.2.0->-r requirements.txt (line 3)) (0.4.1)\n",
      "Requirement already satisfied: murmurhash<1.1.0,>=0.28.0 in /home/ec2-user/anaconda3/envs/pytorch_latest_p36/lib/python3.6/site-packages (from spacy<2.4.0,==2.2.0->-r requirements.txt (line 3)) (1.0.4)\n",
      "Requirement already satisfied: wasabi<1.1.0,>=0.2.0 in /home/ec2-user/anaconda3/envs/pytorch_latest_p36/lib/python3.6/site-packages (from spacy<2.4.0,==2.2.0->-r requirements.txt (line 3)) (0.8.0)\n",
      "Requirement already satisfied: preshed<3.1.0,>=3.0.2 in /home/ec2-user/anaconda3/envs/pytorch_latest_p36/lib/python3.6/site-packages (from spacy<2.4.0,==2.2.0->-r requirements.txt (line 3)) (3.0.4)\n",
      "Requirement already satisfied: idna<3,>=2.5 in /home/ec2-user/anaconda3/envs/pytorch_latest_p36/lib/python3.6/site-packages (from requests->h2o==3.32.0.3->-r requirements.txt (line 1)) (2.10)\n",
      "Requirement already satisfied: urllib3<1.27,>=1.21.1 in /home/ec2-user/anaconda3/envs/pytorch_latest_p36/lib/python3.6/site-packages (from requests->h2o==3.32.0.3->-r requirements.txt (line 1)) (1.26.2)\n",
      "Requirement already satisfied: certifi>=2017.4.17 in /home/ec2-user/anaconda3/envs/pytorch_latest_p36/lib/python3.6/site-packages (from requests->h2o==3.32.0.3->-r requirements.txt (line 1)) (2020.12.5)\n",
      "Requirement already satisfied: chardet<5,>=3.0.2 in /home/ec2-user/anaconda3/envs/pytorch_latest_p36/lib/python3.6/site-packages (from requests->h2o==3.32.0.3->-r requirements.txt (line 1)) (4.0.0)\n",
      "Collecting thinc<7.2.0,>=7.1.1\n",
      "  Downloading thinc-7.1.1-cp36-cp36m-manylinux1_x86_64.whl (2.1 MB)\n",
      "\u001b[K     |████████████████████████████████| 2.1 MB 62.4 MB/s eta 0:00:01\n",
      "\u001b[?25hRequirement already satisfied: tqdm<5.0.0,>=4.10.0 in /home/ec2-user/anaconda3/envs/pytorch_latest_p36/lib/python3.6/site-packages (from thinc<7.2.0,>=7.1.1->spacy<2.4.0,==2.2.0->-r requirements.txt (line 3)) (4.42.1)\n",
      "Requirement already satisfied: matplotlib>=1.4.0 in /home/ec2-user/anaconda3/envs/pytorch_latest_p36/lib/python3.6/site-packages (from scikit-plot->-r requirements.txt (line 5)) (3.1.3)\n",
      "Requirement already satisfied: kiwisolver>=1.0.1 in /home/ec2-user/anaconda3/envs/pytorch_latest_p36/lib/python3.6/site-packages (from matplotlib>=1.4.0->scikit-plot->-r requirements.txt (line 5)) (1.1.0)\n",
      "Requirement already satisfied: pyparsing!=2.0.4,!=2.1.2,!=2.1.6,>=2.0.1 in /home/ec2-user/anaconda3/envs/pytorch_latest_p36/lib/python3.6/site-packages (from matplotlib>=1.4.0->scikit-plot->-r requirements.txt (line 5)) (2.4.7)\n",
      "Requirement already satisfied: python-dateutil>=2.1 in /home/ec2-user/anaconda3/envs/pytorch_latest_p36/lib/python3.6/site-packages (from matplotlib>=1.4.0->scikit-plot->-r requirements.txt (line 5)) (2.8.1)\n",
      "Requirement already satisfied: cycler>=0.10 in /home/ec2-user/anaconda3/envs/pytorch_latest_p36/lib/python3.6/site-packages (from matplotlib>=1.4.0->scikit-plot->-r requirements.txt (line 5)) (0.10.0)\n",
      "Requirement already satisfied: setuptools in /home/ec2-user/anaconda3/envs/pytorch_latest_p36/lib/python3.6/site-packages (from kiwisolver>=1.0.1->matplotlib>=1.4.0->scikit-plot->-r requirements.txt (line 5)) (45.2.0.post20200210)\n",
      "Installing collected packages: thinc, spacy\n",
      "  Attempting uninstall: thinc\n",
      "    Found existing installation: thinc 7.4.1\n",
      "    Uninstalling thinc-7.4.1:\n",
      "      Successfully uninstalled thinc-7.4.1\n",
      "  Attempting uninstall: spacy\n",
      "    Found existing installation: spacy 2.3.0\n",
      "    Uninstalling spacy-2.3.0:\n",
      "      Successfully uninstalled spacy-2.3.0\n",
      "Successfully installed spacy-2.2.0 thinc-7.1.1\n",
      "\u001b[33mWARNING: You are using pip version 20.3.3; however, version 21.0.1 is available.\n",
      "You should consider upgrading via the '/home/ec2-user/anaconda3/envs/pytorch_latest_p36/bin/python -m pip install --upgrade pip' command.\u001b[0m\n"
     ]
    }
   ],
   "source": [
    "!pip install -r requirements.txt"
   ]
  },
  {
   "cell_type": "code",
   "execution_count": 7,
   "id": "periodic-polymer",
   "metadata": {},
   "outputs": [
    {
     "name": "stderr",
     "output_type": "stream",
     "text": [
      "/home/ec2-user/anaconda3/envs/pytorch_latest_p36/lib/python3.6/site-packages/spacy/util.py:271: UserWarning: [W031] Model 'en_core_web_sm' (2.2.0) requires spaCy v2.2 and is incompatible with the current spaCy version (2.3.0). This may lead to unexpected results or runtime errors. To resolve this, download a newer compatible model or retrain your custom model with the current spaCy version. For more details and available updates, run: python -m spacy validate\n",
      "  warnings.warn(warn_msg)\n"
     ]
    }
   ],
   "source": [
    "import spacy\n",
    "import en_core_web_sm\n",
    "nlp=en_core_web_sm.load()\n",
    "from nltk.tokenize import sent_tokenize, word_tokenize   \n",
    "import numpy as np \n",
    "import matplotlib.pyplot as plt\n",
    "import scikitplot as skplt\n",
    "from timeit import default_timer as timer \n",
    "import os\n",
    "import random \n",
    "random.seed(100)\n",
    "from sklearn.feature_extraction.text import TfidfVectorizer\n",
    "from sklearn.feature_extraction.text import CountVectorizer\n",
    "import pandas as pd\n",
    "import pickle\n",
    "from sklearn.metrics import classification_report, confusion_matrix, precision_recall_curve\n",
    "from gensim.corpora import Dictionary\n",
    "from gensim.models.tfidfmodel import TfidfModel\n",
    "from gensim.matutils import sparse2full\n",
    "import gensim\n",
    "from Utils import *\n",
    "import dask.dataframe as dd\n",
    "from dask.distributed import Client\n",
    "import gc"
   ]
  },
  {
   "cell_type": "code",
   "execution_count": 8,
   "id": "metallic-toddler",
   "metadata": {},
   "outputs": [
    {
     "name": "stdout",
     "output_type": "stream",
     "text": [
      "Connecting to H2O server at http://localhost:54321 ... successful.\n"
     ]
    },
    {
     "data": {
      "text/html": [
       "<div style=\"overflow:auto\"><table style=\"width:50%\"><tr><td>H2O_cluster_uptime:</td>\n",
       "<td>17 mins 48 secs</td></tr>\n",
       "<tr><td>H2O_cluster_timezone:</td>\n",
       "<td>UTC</td></tr>\n",
       "<tr><td>H2O_data_parsing_timezone:</td>\n",
       "<td>UTC</td></tr>\n",
       "<tr><td>H2O_cluster_version:</td>\n",
       "<td>3.32.0.3</td></tr>\n",
       "<tr><td>H2O_cluster_version_age:</td>\n",
       "<td>1 month and 25 days </td></tr>\n",
       "<tr><td>H2O_cluster_name:</td>\n",
       "<td>H2O_from_python_ec2_user_deawsv</td></tr>\n",
       "<tr><td>H2O_cluster_total_nodes:</td>\n",
       "<td>1</td></tr>\n",
       "<tr><td>H2O_cluster_free_memory:</td>\n",
       "<td>1.949 Gb</td></tr>\n",
       "<tr><td>H2O_cluster_total_cores:</td>\n",
       "<td>2</td></tr>\n",
       "<tr><td>H2O_cluster_allowed_cores:</td>\n",
       "<td>2</td></tr>\n",
       "<tr><td>H2O_cluster_status:</td>\n",
       "<td>locked, healthy</td></tr>\n",
       "<tr><td>H2O_connection_url:</td>\n",
       "<td>http://localhost:54321</td></tr>\n",
       "<tr><td>H2O_connection_proxy:</td>\n",
       "<td>{\"http\": null, \"https\": null}</td></tr>\n",
       "<tr><td>H2O_internal_security:</td>\n",
       "<td>False</td></tr>\n",
       "<tr><td>H2O_API_Extensions:</td>\n",
       "<td>Amazon S3, XGBoost, Algos, AutoML, Core V3, TargetEncoder, Core V4</td></tr>\n",
       "<tr><td>Python_version:</td>\n",
       "<td>3.6.10 final</td></tr></table></div>"
      ],
      "text/plain": [
       "--------------------------  ------------------------------------------------------------------\n",
       "H2O_cluster_uptime:         17 mins 48 secs\n",
       "H2O_cluster_timezone:       UTC\n",
       "H2O_data_parsing_timezone:  UTC\n",
       "H2O_cluster_version:        3.32.0.3\n",
       "H2O_cluster_version_age:    1 month and 25 days\n",
       "H2O_cluster_name:           H2O_from_python_ec2_user_deawsv\n",
       "H2O_cluster_total_nodes:    1\n",
       "H2O_cluster_free_memory:    1.949 Gb\n",
       "H2O_cluster_total_cores:    2\n",
       "H2O_cluster_allowed_cores:  2\n",
       "H2O_cluster_status:         locked, healthy\n",
       "H2O_connection_url:         http://localhost:54321\n",
       "H2O_connection_proxy:       {\"http\": null, \"https\": null}\n",
       "H2O_internal_security:      False\n",
       "H2O_API_Extensions:         Amazon S3, XGBoost, Algos, AutoML, Core V3, TargetEncoder, Core V4\n",
       "Python_version:             3.6.10 final\n",
       "--------------------------  ------------------------------------------------------------------"
      ]
     },
     "metadata": {},
     "output_type": "display_data"
    },
    {
     "data": {
      "text/plain": [
       "<H2OConnection to http://localhost:54321, no session>"
      ]
     },
     "execution_count": 8,
     "metadata": {},
     "output_type": "execute_result"
    }
   ],
   "source": [
    "import h2o\n",
    "h2o.connect()"
   ]
  },
  {
   "cell_type": "code",
   "execution_count": 20,
   "id": "competent-massachusetts",
   "metadata": {},
   "outputs": [],
   "source": [
    "data= pd.read_csv(\"Train.csv\")"
   ]
  },
  {
   "cell_type": "code",
   "execution_count": 21,
   "id": "proud-mounting",
   "metadata": {},
   "outputs": [],
   "source": [
    "data= data.head(1000)"
   ]
  },
  {
   "cell_type": "code",
   "execution_count": 22,
   "id": "peripheral-scheduling",
   "metadata": {},
   "outputs": [],
   "source": [
    "data2=dd.from_pandas(data, npartitions=2)\n",
    "\n",
    "data2['clean_text'] = data2['text'].apply(lambda x: data_clean(x), meta=('sentence')).compute(scheduler='processes')\n",
    "\n",
    "data=data2.compute(num_workers=2)"
   ]
  },
  {
   "cell_type": "code",
   "execution_count": 23,
   "id": "lined-raleigh",
   "metadata": {},
   "outputs": [],
   "source": [
    "tfidf_vect = TfidfVectorizer(analyzer='word',max_df=0.75,stop_words='english', ngram_range=(1,1),max_features=300)\n",
    "tfidf_fit = tfidf_vect.fit_transform(data['clean_text'])\n",
    "tfidf_array = tfidf_fit.toarray()\n",
    "\n",
    "tfidf_vect_ngram = TfidfVectorizer(analyzer='word', token_pattern=r'\\w{1,}', ngram_range=(2,6), max_features=3000,max_df=0.75)\n",
    "tfidf_vect_ngram_fit = tfidf_vect_ngram.fit_transform(data['clean_text'])\n",
    "tfidf_ngram_array = tfidf_vect_ngram_fit.toarray()"
   ]
  },
  {
   "cell_type": "code",
   "execution_count": 24,
   "id": "special-aquarium",
   "metadata": {},
   "outputs": [],
   "source": [
    "tfidf_cols = ['tfidf_uni_'+str(i) for i in tfidf_vect.get_feature_names()]\n",
    "tfidf_df = pd.DataFrame(tfidf_array,columns=tfidf_cols)\n",
    "\n",
    "tfidf_ngram_cols = ['tfidf_ngram_'+str(i) for i in tfidf_vect_ngram.get_feature_names()]\n",
    "tfidf_ngram_df = pd.DataFrame(tfidf_ngram_array,columns=tfidf_ngram_cols)"
   ]
  },
  {
   "cell_type": "code",
   "execution_count": 25,
   "id": "gothic-slovakia",
   "metadata": {},
   "outputs": [
    {
     "data": {
      "text/plain": [
       "(1000, 3303)"
      ]
     },
     "execution_count": 25,
     "metadata": {},
     "output_type": "execute_result"
    }
   ],
   "source": [
    "train = pd.concat([data,tfidf_df,tfidf_ngram_df],axis=1)\n",
    "train.shape"
   ]
  },
  {
   "cell_type": "code",
   "execution_count": 26,
   "id": "stylish-hampshire",
   "metadata": {},
   "outputs": [],
   "source": [
    "#def for add weights to columns \n",
    "from sklearn.utils import class_weight\n",
    "class_weights = list(class_weight.compute_class_weight('balanced',np.unique(train.label),train.label))\n",
    "weights =np.ones(train.shape[0],dtype='float')\n",
    "for i,val in enumerate(train.label):\n",
    "     weights[i]=class_weights[val]\n",
    "train['weights_class']=weights"
   ]
  },
  {
   "cell_type": "code",
   "execution_count": 27,
   "id": "elementary-techno",
   "metadata": {},
   "outputs": [
    {
     "name": "stdout",
     "output_type": "stream",
     "text": [
      "(1000, 3302)\n",
      "Parse progress: |█████████████████████████████████████████████████████████| 100%\n",
      "(1000, 3302)\n"
     ]
    }
   ],
   "source": [
    "train_1=train.copy()\n",
    "import random \n",
    "random.seed(20)\n",
    "\n",
    "\n",
    "# Concatenating the columns which would be fed into the model as 'x' i.e. dependent\n",
    "training_cols = tfidf_cols+tfidf_ngram_cols\n",
    "\n",
    "weights='weights_class'\n",
    "\n",
    "other_cols=['label','weights_class']\n",
    "\n",
    "tk=other_cols+training_cols\n",
    "\n",
    "response = 'label'\n",
    "c=train[tk]\n",
    "# Conversion of pandas dataframe to h2o dataframe\n",
    "print(c.shape)\n",
    "train_frame=h2o.H2OFrame(c)\n",
    "print(train_frame.shape)"
   ]
  },
  {
   "cell_type": "code",
   "execution_count": 28,
   "id": "afraid-dating",
   "metadata": {},
   "outputs": [
    {
     "name": "stdout",
     "output_type": "stream",
     "text": [
      "(1000, 3302)\n"
     ]
    }
   ],
   "source": [
    "train_frame['label'] = train_frame['label'].asfactor()\n",
    "print(train_frame.shape)"
   ]
  },
  {
   "cell_type": "code",
   "execution_count": 29,
   "id": "congressional-mississippi",
   "metadata": {},
   "outputs": [
    {
     "name": "stdout",
     "output_type": "stream",
     "text": [
      "(897, 3302)\n",
      "(103, 3302)\n"
     ]
    }
   ],
   "source": [
    "#Splitting the dataframe in train and val\n",
    "train, valid= train_frame.split_frame(ratios = [.9], seed = 1234)\n",
    "print(train.shape)\n",
    "print(valid.shape)"
   ]
  },
  {
   "cell_type": "code",
   "execution_count": 30,
   "id": "appreciated-virginia",
   "metadata": {},
   "outputs": [
    {
     "name": "stdout",
     "output_type": "stream",
     "text": [
      "drf Model Build progress: |███████████████████████████████████████████████| 100%\n"
     ]
    }
   ],
   "source": [
    "#training_cols=pre_cols+tfidf_cols+tfidf_ngram_cols+ embedding_cols + columns_pos\n",
    "from h2o.estimators import H2ORandomForestEstimator\n",
    "model = H2ORandomForestEstimator(ntrees=50,max_depth=6,nfolds=5,balance_classes=False,\n",
    "                                 keep_cross_validation_predictions=True,\n",
    "                                 fold_assignment=\"stratified\",\n",
    "                                 keep_cross_validation_models=True,gainslift_bins=10,weights_column='weights_class',seed=10)\n",
    "model.train(x=training_cols,y=response, training_frame=train,validation_frame=valid)"
   ]
  },
  {
   "cell_type": "code",
   "execution_count": 31,
   "id": "hispanic-ceiling",
   "metadata": {},
   "outputs": [],
   "source": [
    "with open('tfidf_pickle','wb') as f:\n",
    "    pickle.dump(tfidf_vect,f)\n",
    "with open('tfidfngram_pickle','wb') as f:\n",
    "    pickle.dump(tfidf_vect_ngram,f)"
   ]
  },
  {
   "cell_type": "code",
   "execution_count": 32,
   "id": "caring-consensus",
   "metadata": {},
   "outputs": [
    {
     "data": {
      "text/plain": [
       "'/home/ec2-user/SageMaker/imdb_train_deploy/DRF_model_python_1613742661629_1'"
      ]
     },
     "execution_count": 32,
     "metadata": {},
     "output_type": "execute_result"
    }
   ],
   "source": [
    "# model_2.model_performance()\n",
    "path = '/home/ec2-user/SageMaker/imdb_train_deploy'\n",
    "h2o.save_model(model,path)"
   ]
  },
  {
   "cell_type": "code",
   "execution_count": null,
   "id": "comprehensive-ranking",
   "metadata": {},
   "outputs": [],
   "source": []
  }
 ],
 "metadata": {
  "kernelspec": {
   "display_name": "conda_pytorch_latest_p36",
   "language": "python",
   "name": "conda_pytorch_latest_p36"
  },
  "language_info": {
   "codemirror_mode": {
    "name": "ipython",
    "version": 3
   },
   "file_extension": ".py",
   "mimetype": "text/x-python",
   "name": "python",
   "nbconvert_exporter": "python",
   "pygments_lexer": "ipython3",
   "version": "3.6.10"
  }
 },
 "nbformat": 4,
 "nbformat_minor": 5
}
